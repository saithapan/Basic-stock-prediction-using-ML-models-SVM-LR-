{
 "cells": [
  {
   "cell_type": "code",
   "execution_count": 16,
   "metadata": {},
   "outputs": [],
   "source": [
    "import quandl\n",
    "import numpy as np\n",
    "from sklearn.linear_model import LinearRegression\n",
    "from sklearn.svm import SVR\n",
    "from sklearn.model_selection import train_test_split"
   ]
  },
  {
   "cell_type": "code",
   "execution_count": 18,
   "metadata": {},
   "outputs": [
    {
     "name": "stdout",
     "output_type": "stream",
     "text": [
      "             Open   High    Low    Close       Volume  Ex-Dividend  \\\n",
      "Date                                                                 \n",
      "2012-05-18  42.05  45.00  38.00  38.2318  573576400.0          0.0   \n",
      "2012-05-21  36.53  36.66  33.00  34.0300  168192700.0          0.0   \n",
      "2012-05-22  32.61  33.59  30.94  31.0000  101786600.0          0.0   \n",
      "2012-05-23  31.37  32.50  31.36  32.0000   73600000.0          0.0   \n",
      "2012-05-24  32.95  33.21  31.77  33.0300   50237200.0          0.0   \n",
      "\n",
      "            Split Ratio  Adj. Open  Adj. High  Adj. Low  Adj. Close  \\\n",
      "Date                                                                  \n",
      "2012-05-18          1.0      42.05      45.00     38.00     38.2318   \n",
      "2012-05-21          1.0      36.53      36.66     33.00     34.0300   \n",
      "2012-05-22          1.0      32.61      33.59     30.94     31.0000   \n",
      "2012-05-23          1.0      31.37      32.50     31.36     32.0000   \n",
      "2012-05-24          1.0      32.95      33.21     31.77     33.0300   \n",
      "\n",
      "            Adj. Volume  \n",
      "Date                     \n",
      "2012-05-18  573576400.0  \n",
      "2012-05-21  168192700.0  \n",
      "2012-05-22  101786600.0  \n",
      "2012-05-23   73600000.0  \n",
      "2012-05-24   50237200.0  \n"
     ]
    }
   ],
   "source": [
    "df = quandl.get(\"WIKI/FB\")\n",
    "print(df.head())"
   ]
  },
  {
   "cell_type": "code",
   "execution_count": 20,
   "metadata": {},
   "outputs": [
    {
     "data": {
      "text/html": [
       "<div>\n",
       "<style scoped>\n",
       "    .dataframe tbody tr th:only-of-type {\n",
       "        vertical-align: middle;\n",
       "    }\n",
       "\n",
       "    .dataframe tbody tr th {\n",
       "        vertical-align: top;\n",
       "    }\n",
       "\n",
       "    .dataframe thead th {\n",
       "        text-align: right;\n",
       "    }\n",
       "</style>\n",
       "<table border=\"1\" class=\"dataframe\">\n",
       "  <thead>\n",
       "    <tr style=\"text-align: right;\">\n",
       "      <th></th>\n",
       "      <th>Adj. Close</th>\n",
       "    </tr>\n",
       "    <tr>\n",
       "      <th>Date</th>\n",
       "      <th></th>\n",
       "    </tr>\n",
       "  </thead>\n",
       "  <tbody>\n",
       "    <tr>\n",
       "      <td>2012-05-18</td>\n",
       "      <td>38.2318</td>\n",
       "    </tr>\n",
       "    <tr>\n",
       "      <td>2012-05-21</td>\n",
       "      <td>34.0300</td>\n",
       "    </tr>\n",
       "    <tr>\n",
       "      <td>2012-05-22</td>\n",
       "      <td>31.0000</td>\n",
       "    </tr>\n",
       "    <tr>\n",
       "      <td>2012-05-23</td>\n",
       "      <td>32.0000</td>\n",
       "    </tr>\n",
       "    <tr>\n",
       "      <td>2012-05-24</td>\n",
       "      <td>33.0300</td>\n",
       "    </tr>\n",
       "  </tbody>\n",
       "</table>\n",
       "</div>"
      ],
      "text/plain": [
       "            Adj. Close\n",
       "Date                  \n",
       "2012-05-18     38.2318\n",
       "2012-05-21     34.0300\n",
       "2012-05-22     31.0000\n",
       "2012-05-23     32.0000\n",
       "2012-05-24     33.0300"
      ]
     },
     "execution_count": 20,
     "metadata": {},
     "output_type": "execute_result"
    }
   ],
   "source": [
    "# get the adjusted close price\n",
    "df = df[['Adj. Close']]\n",
    "df.head()"
   ]
  },
  {
   "cell_type": "code",
   "execution_count": 31,
   "metadata": {},
   "outputs": [
    {
     "name": "stdout",
     "output_type": "stream",
     "text": [
      "            Adj. Close  prediction\n",
      "Date                              \n",
      "2012-05-18     38.2318      30.771\n",
      "2012-05-21     34.0300      31.200\n",
      "2012-05-22     31.0000      31.470\n",
      "2012-05-23     32.0000      31.730\n",
      "2012-05-24     33.0300      32.170\n"
     ]
    }
   ],
   "source": [
    "# A variable for predicting 'n' days out into future\n",
    "forecast_out = 30\n",
    "# now we are creating n value as 1\n",
    "# create another column (the target or dependent variable) shifted 'n' units up\n",
    "df['prediction'] = df[['Adj. Close']].shift(-forecast_out)\n",
    "# print the new data set\n",
    "print(df.head())"
   ]
  },
  {
   "cell_type": "code",
   "execution_count": 34,
   "metadata": {},
   "outputs": [
    {
     "name": "stdout",
     "output_type": "stream",
     "text": [
      "[[ 38.2318]\n",
      " [ 34.03  ]\n",
      " [ 31.    ]\n",
      " ...\n",
      " [171.5499]\n",
      " [175.98  ]\n",
      " [176.41  ]]\n"
     ]
    }
   ],
   "source": [
    "# create the independent data set(x)\n",
    "X = np.array(df.drop(['prediction'],1))\n",
    "#  remove the last 'n' rows\n",
    "X = X[:-forecast_out]\n",
    "print(X)"
   ]
  },
  {
   "cell_type": "code",
   "execution_count": 37,
   "metadata": {},
   "outputs": [
    {
     "name": "stdout",
     "output_type": "stream",
     "text": [
      "[ 30.771  31.2    31.47  ... 159.39  160.06  152.19 ]\n"
     ]
    }
   ],
   "source": [
    "# create the dependent data set (y)\n",
    "# convert the dataframe to a numpy array(All the data including NaN's)\n",
    "y = np.array(df['prediction'])\n",
    "# Get all of the y values except the last 'n' rows\n",
    "y = y[:-forecast_out]\n",
    "print(y)"
   ]
  },
  {
   "cell_type": "code",
   "execution_count": 40,
   "metadata": {},
   "outputs": [],
   "source": [
    "# split the data into 80% training and 20% test \n",
    "x_train,x_test,y_train,y_test = train_test_split(X,y,test_size=0.2)\n"
   ]
  },
  {
   "cell_type": "code",
   "execution_count": 42,
   "metadata": {},
   "outputs": [
    {
     "data": {
      "text/plain": [
       "SVR(C=1000.0, cache_size=200, coef0=0.0, degree=3, epsilon=0.1, gamma=0.1,\n",
       "    kernel='rbf', max_iter=-1, shrinking=True, tol=0.001, verbose=False)"
      ]
     },
     "execution_count": 42,
     "metadata": {},
     "output_type": "execute_result"
    }
   ],
   "source": [
    "# create and train the svm\n",
    "svr_rdf = SVR(kernel = 'rbf', C=1e3 , gamma=0.1)\n",
    "svr_rdf.fit(x_train,y_train)"
   ]
  },
  {
   "cell_type": "code",
   "execution_count": 44,
   "metadata": {},
   "outputs": [
    {
     "name": "stdout",
     "output_type": "stream",
     "text": [
      "svm confidence 0.9838197734466927\n"
     ]
    }
   ],
   "source": [
    "# Testing model: Score returns the coefficient of determination R^2 of the prediction\n",
    "# the best possible score is 1.0\n",
    "svm_confidence = svr_rdf.score(x_test,y_test)\n",
    "print(\"svm confidence\",svm_confidence )\n"
   ]
  },
  {
   "cell_type": "code",
   "execution_count": 50,
   "metadata": {},
   "outputs": [
    {
     "name": "stdout",
     "output_type": "stream",
     "text": [
      "[ 76.68362892 118.95325339 124.66041817 163.69266774  94.76682685\n",
      " 151.49497906  62.96498226 185.45593083 128.59419058 172.43641991\n",
      " 175.15819257  70.98293377 169.48135576  72.70103411  72.56757858\n",
      " 172.49022047 100.36624856 105.7217922  154.86643297  26.64036424\n",
      "  77.46252401  77.93253572  48.03958686 126.11870497 150.63859119\n",
      " 165.2569635  105.12180861  23.03201511  74.91168848 126.96943705\n",
      "  82.67529002  28.22880705 105.5276147   26.90374645 128.85249837\n",
      "  60.62085185  27.06005558  74.79538862  98.11090996 122.66862237\n",
      " 107.64626307 104.27066651  51.75661066 140.78247254  79.41534026\n",
      "  79.35024567  77.54845771 172.35447015  80.20719329 149.44647646\n",
      "  32.81859363  79.41534026  51.84356024  27.09920494  26.30658568\n",
      "  64.43848413 153.04411754 102.03970408 177.45994305  77.7024796\n",
      "  52.01696721 123.25128419 126.23583407 103.6865482   78.01692757\n",
      " 117.42977695 121.33300735  77.63663514  68.63280372  20.4173541\n",
      "  27.6454956   93.58073971  27.11820988  52.31011237  77.51387913\n",
      " 138.99072897  58.40360937 175.05207291  77.65505469 171.45767665\n",
      " 128.60343356  65.2355777  110.34727268  66.73834486 102.75738065\n",
      " 172.07009415  64.19029814  77.71486665  26.55168598  93.50585123\n",
      "  77.54571383 115.94548041  26.86758194 121.80767195  77.71903446\n",
      " 165.27496819 128.31888943  30.55896327  58.47669788 106.13866461\n",
      "  28.25373884 118.7581978   77.75916123  65.83413012 176.70523071\n",
      " 124.45360873  63.38958959 176.34864745  25.74223413  86.57424018\n",
      " 149.98183065 130.01982781  50.10911372  92.58355549 150.5983092\n",
      " 111.31641808  82.17722071  62.47567523  27.34419084  29.49103984\n",
      "  51.83279016  29.68074852  21.65392095 140.20456704  64.795363\n",
      " 103.70971072  67.31773415  75.10360393 178.00417969 118.75154701\n",
      "  26.75950609  48.56005399 171.26514724 129.21004236 157.69307525\n",
      " 127.67552132  80.68335812 180.30842579  94.66409739  77.77716577\n",
      "  77.42116185  48.37693825 116.14970322 170.97235174 179.33244499\n",
      " 180.0448497   80.86507633 179.31108078  75.8125211  121.20434943\n",
      "  27.16798023 117.31932575  75.63561874 119.89845222 114.74670404\n",
      "  78.47032115  27.99661291 105.64753123 141.63984281  27.59076939\n",
      "  25.42271325  93.39885957  66.22982479 181.06650977  21.89182407\n",
      " 148.73927819  25.72137059  91.16813411 171.39865575  27.73725239\n",
      " 154.05151523 150.95020487 102.76310522 131.94356651  26.9455444\n",
      "  32.4483906   94.62504349 179.28335657 171.76297683 181.04264339\n",
      "  48.1125076  165.94047626  58.61058942 174.18295459  27.17865061\n",
      "  63.39078068 103.35599753 150.10104101  48.89438403  77.96519708\n",
      "  71.45867323  82.6858067  171.64061804  81.26566312  81.75229836\n",
      "  25.67968566 176.22935624 118.75622098 175.52345478 178.92658077\n",
      " 149.89484263  47.81051181  64.02925788  98.7901174   57.79096758\n",
      "  26.22186641 124.1201008  124.38607559 106.85923311  56.73971175\n",
      "  21.65763963  77.71071962  68.56723091  77.91852139 105.0331803\n",
      " 183.26138413 118.12469985 118.76725989 121.65167264  77.82782938\n",
      "  26.38514268 175.6215123  113.85393098 179.12731312 120.40170347\n",
      "  23.13527613  20.85246845 106.36593262 140.14031856 171.23723782\n",
      " 103.02165525  67.3962838   79.28575293  21.35930498  21.11197402\n",
      "  52.66908229 152.98007697 127.07334485  27.34762416  80.46756762\n",
      " 117.99029064  66.28941946  21.73748424  78.00272788  77.39735419\n",
      "  79.38923329 129.68676756 123.25523261 119.21277575  77.71071962\n",
      "  47.48946466 183.38438778 105.15522308  94.38087774  78.01739928\n",
      "  65.35260383 183.33638336  67.05110665  23.3992191  163.84260999\n",
      " 152.78455981  77.54571383  82.51077076 178.94398107  23.30456572\n",
      " 122.72529497 106.80741483 124.89705403  79.96042595 140.08174006\n",
      "  18.31366692  77.65673282 177.01072831  66.91479433 177.56888896\n",
      "  79.99223506  26.44659591  20.09459774  63.43337313 138.64473366\n",
      "  77.60340824 128.05715898  81.20439163 128.84737009  63.70449451\n",
      " 128.8608116   93.28267583 109.87865254 105.61121455]\n"
     ]
    }
   ],
   "source": [
    "y_pred = svr_rdf.predict(x_test)\n",
    "print(y_pred)"
   ]
  },
  {
   "cell_type": "code",
   "execution_count": 52,
   "metadata": {},
   "outputs": [
    {
     "data": {
      "text/plain": [
       "LinearRegression(copy_X=True, fit_intercept=True, n_jobs=None, normalize=False)"
      ]
     },
     "execution_count": 52,
     "metadata": {},
     "output_type": "execute_result"
    }
   ],
   "source": [
    "# Create and train the linear regression model\n",
    "lr = LinearRegression()\n",
    "# Train the model\n",
    "lr.fit(x_train,y_train)\n"
   ]
  },
  {
   "cell_type": "code",
   "execution_count": 61,
   "metadata": {},
   "outputs": [
    {
     "name": "stdout",
     "output_type": "stream",
     "text": [
      "lr confidence 0.9791647640980308\n"
     ]
    }
   ],
   "source": [
    "# Testing model: Score returns the coefficient of determination R^2 of the prediction\n",
    "# the best possible score is 1.0\n",
    "lr_confidence = lr.score(x_test,y_test)\n",
    "print(\"lr confidence\",lr_confidence )"
   ]
  },
  {
   "cell_type": "code",
   "execution_count": 57,
   "metadata": {},
   "outputs": [
    {
     "name": "stdout",
     "output_type": "stream",
     "text": [
      "[[173.15]\n",
      " [179.52]\n",
      " [179.96]\n",
      " [177.36]\n",
      " [176.01]\n",
      " [177.91]\n",
      " [178.99]\n",
      " [183.29]\n",
      " [184.93]\n",
      " [181.46]\n",
      " [178.32]\n",
      " [175.94]\n",
      " [176.62]\n",
      " [180.4 ]\n",
      " [179.78]\n",
      " [183.71]\n",
      " [182.34]\n",
      " [185.23]\n",
      " [184.76]\n",
      " [181.88]\n",
      " [184.19]\n",
      " [183.86]\n",
      " [185.09]\n",
      " [172.56]\n",
      " [168.15]\n",
      " [169.39]\n",
      " [164.89]\n",
      " [159.39]\n",
      " [160.06]\n",
      " [152.19]]\n"
     ]
    }
   ],
   "source": [
    "# set x_forecast equal to the last 30 rows of the original data set from adj.close column\n",
    "x_forecast = np.array(df.drop(['prediction'],1))[-forecast_out:]\n",
    "print(x_forecast)"
   ]
  },
  {
   "cell_type": "code",
   "execution_count": 60,
   "metadata": {},
   "outputs": [
    {
     "name": "stdout",
     "output_type": "stream",
     "text": [
      "[177.13007839 183.56246553 184.00677485 181.38131071 180.01808894\n",
      " 181.93669735 183.02727477 187.36938854 189.02545053 185.5214657\n",
      " 182.35071285 179.94740337 180.63406322 184.45108416 183.82501195\n",
      " 187.79350197 186.41008433 189.3283887  188.85378557 185.94557914\n",
      " 188.27820305 187.94497106 189.18701756 176.53429999 172.08110889\n",
      " 173.33325333 168.78918078 163.23531433 163.91187624 155.96479825]\n",
      "[174.4963044  181.28188865 180.54153196 175.8947047  175.18436983\n",
      " 177.42402924 181.04886441 184.3408653  179.63632236 179.73126154\n",
      " 178.99387556 175.11935286 175.34816555 179.5207817  180.91724002\n",
      " 183.3018737  183.10297759 179.5647374  179.87671698 181.24393391\n",
      " 181.54277907 182.77879656 179.54223794 177.5921479  171.68995734\n",
      " 171.72442733 172.48931688 167.56541446 166.2609655  159.64881243]\n"
     ]
    }
   ],
   "source": [
    "# print the linear regression predictions for the next 'n' days\n",
    "lr_prediction = lr.predict(x_forecast)\n",
    "print(lr_prediction)\n",
    "\n",
    "# print the support vector regression predictions for the next 'n' days\n",
    "svm_prediction = svr_rdf.predict(x_forecast)\n",
    "print(svm_prediction)\n",
    " \n",
    "\n"
   ]
  }
 ],
 "metadata": {
  "kernelspec": {
   "display_name": "Python 3",
   "language": "python",
   "name": "python3"
  },
  "language_info": {
   "codemirror_mode": {
    "name": "ipython",
    "version": 3
   },
   "file_extension": ".py",
   "mimetype": "text/x-python",
   "name": "python",
   "nbconvert_exporter": "python",
   "pygments_lexer": "ipython3",
   "version": "3.7.4"
  }
 },
 "nbformat": 4,
 "nbformat_minor": 2
}
